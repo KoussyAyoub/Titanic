{
 "cells": [
  {
   "cell_type": "code",
   "execution_count": 1,
   "id": "1b57a42c",
   "metadata": {
    "_cell_guid": "b1076dfc-b9ad-4769-8c92-a6c4dae69d19",
    "_uuid": "8f2839f25d086af736a60e9eeb907d3b93b6e0e5",
    "execution": {
     "iopub.execute_input": "2022-08-16T19:32:07.406255Z",
     "iopub.status.busy": "2022-08-16T19:32:07.405476Z",
     "iopub.status.idle": "2022-08-16T19:32:07.420632Z",
     "shell.execute_reply": "2022-08-16T19:32:07.419626Z"
    },
    "papermill": {
     "duration": 0.030145,
     "end_time": "2022-08-16T19:32:07.423360",
     "exception": false,
     "start_time": "2022-08-16T19:32:07.393215",
     "status": "completed"
    },
    "tags": []
   },
   "outputs": [
    {
     "name": "stdout",
     "output_type": "stream",
     "text": [
      "/kaggle/input/titanic/train.csv\n",
      "/kaggle/input/titanic/test.csv\n",
      "/kaggle/input/titanic/gender_submission.csv\n"
     ]
    }
   ],
   "source": [
    "# This Python 3 environment comes with many helpful analytics libraries installed\n",
    "# It is defined by the kaggle/python Docker image: https://github.com/kaggle/docker-python\n",
    "# For example, here's several helpful packages to load\n",
    "\n",
    "import numpy as np # linear algebra\n",
    "import pandas as pd # data processing, CSV file I/O (e.g. pd.read_csv)\n",
    "\n",
    "# Input data files are available in the read-only \"../input/\" directory\n",
    "# For example, running this (by clicking run or pressing Shift+Enter) will list all files under the input directory\n",
    "\n",
    "import os\n",
    "for dirname, _, filenames in os.walk('/kaggle/input'):\n",
    "    for filename in filenames:\n",
    "        print(os.path.join(dirname, filename))\n",
    "\n",
    "# You can write up to 20GB to the current directory (/kaggle/working/) that gets preserved as output when you create a version using \"Save & Run All\" \n",
    "# You can also write temporary files to /kaggle/temp/, but they won't be saved outside of the current session"
   ]
  },
  {
   "cell_type": "code",
   "execution_count": 2,
   "id": "936451d9",
   "metadata": {
    "execution": {
     "iopub.execute_input": "2022-08-16T19:32:07.445039Z",
     "iopub.status.busy": "2022-08-16T19:32:07.444279Z",
     "iopub.status.idle": "2022-08-16T19:32:07.449417Z",
     "shell.execute_reply": "2022-08-16T19:32:07.448013Z"
    },
    "papermill": {
     "duration": 0.018641,
     "end_time": "2022-08-16T19:32:07.452383",
     "exception": false,
     "start_time": "2022-08-16T19:32:07.433742",
     "status": "completed"
    },
    "tags": []
   },
   "outputs": [],
   "source": [
    "import pandas as pd\n",
    "import matplotlib.pyplot as plt\n",
    "import numpy as np"
   ]
  },
  {
   "cell_type": "code",
   "execution_count": 3,
   "id": "d776eb7c",
   "metadata": {
    "execution": {
     "iopub.execute_input": "2022-08-16T19:32:07.471994Z",
     "iopub.status.busy": "2022-08-16T19:32:07.471198Z",
     "iopub.status.idle": "2022-08-16T19:32:07.493559Z",
     "shell.execute_reply": "2022-08-16T19:32:07.491768Z"
    },
    "papermill": {
     "duration": 0.035388,
     "end_time": "2022-08-16T19:32:07.496504",
     "exception": false,
     "start_time": "2022-08-16T19:32:07.461116",
     "status": "completed"
    },
    "tags": []
   },
   "outputs": [],
   "source": [
    "data_train = pd.read_csv('../input/titanic/train.csv')"
   ]
  },
  {
   "cell_type": "code",
   "execution_count": 4,
   "id": "fe7f6fd1",
   "metadata": {
    "execution": {
     "iopub.execute_input": "2022-08-16T19:32:07.515957Z",
     "iopub.status.busy": "2022-08-16T19:32:07.515439Z",
     "iopub.status.idle": "2022-08-16T19:32:07.540365Z",
     "shell.execute_reply": "2022-08-16T19:32:07.539416Z"
    },
    "papermill": {
     "duration": 0.037444,
     "end_time": "2022-08-16T19:32:07.542608",
     "exception": false,
     "start_time": "2022-08-16T19:32:07.505164",
     "status": "completed"
    },
    "tags": []
   },
   "outputs": [
    {
     "data": {
      "text/html": [
       "<div>\n",
       "<style scoped>\n",
       "    .dataframe tbody tr th:only-of-type {\n",
       "        vertical-align: middle;\n",
       "    }\n",
       "\n",
       "    .dataframe tbody tr th {\n",
       "        vertical-align: top;\n",
       "    }\n",
       "\n",
       "    .dataframe thead th {\n",
       "        text-align: right;\n",
       "    }\n",
       "</style>\n",
       "<table border=\"1\" class=\"dataframe\">\n",
       "  <thead>\n",
       "    <tr style=\"text-align: right;\">\n",
       "      <th></th>\n",
       "      <th>PassengerId</th>\n",
       "      <th>Survived</th>\n",
       "      <th>Pclass</th>\n",
       "      <th>Name</th>\n",
       "      <th>Sex</th>\n",
       "      <th>Age</th>\n",
       "      <th>SibSp</th>\n",
       "      <th>Parch</th>\n",
       "      <th>Ticket</th>\n",
       "      <th>Fare</th>\n",
       "      <th>Cabin</th>\n",
       "      <th>Embarked</th>\n",
       "    </tr>\n",
       "  </thead>\n",
       "  <tbody>\n",
       "    <tr>\n",
       "      <th>0</th>\n",
       "      <td>1</td>\n",
       "      <td>0</td>\n",
       "      <td>3</td>\n",
       "      <td>Braund, Mr. Owen Harris</td>\n",
       "      <td>male</td>\n",
       "      <td>22.0</td>\n",
       "      <td>1</td>\n",
       "      <td>0</td>\n",
       "      <td>A/5 21171</td>\n",
       "      <td>7.2500</td>\n",
       "      <td>NaN</td>\n",
       "      <td>S</td>\n",
       "    </tr>\n",
       "    <tr>\n",
       "      <th>1</th>\n",
       "      <td>2</td>\n",
       "      <td>1</td>\n",
       "      <td>1</td>\n",
       "      <td>Cumings, Mrs. John Bradley (Florence Briggs Th...</td>\n",
       "      <td>female</td>\n",
       "      <td>38.0</td>\n",
       "      <td>1</td>\n",
       "      <td>0</td>\n",
       "      <td>PC 17599</td>\n",
       "      <td>71.2833</td>\n",
       "      <td>C85</td>\n",
       "      <td>C</td>\n",
       "    </tr>\n",
       "    <tr>\n",
       "      <th>2</th>\n",
       "      <td>3</td>\n",
       "      <td>1</td>\n",
       "      <td>3</td>\n",
       "      <td>Heikkinen, Miss. Laina</td>\n",
       "      <td>female</td>\n",
       "      <td>26.0</td>\n",
       "      <td>0</td>\n",
       "      <td>0</td>\n",
       "      <td>STON/O2. 3101282</td>\n",
       "      <td>7.9250</td>\n",
       "      <td>NaN</td>\n",
       "      <td>S</td>\n",
       "    </tr>\n",
       "    <tr>\n",
       "      <th>3</th>\n",
       "      <td>4</td>\n",
       "      <td>1</td>\n",
       "      <td>1</td>\n",
       "      <td>Futrelle, Mrs. Jacques Heath (Lily May Peel)</td>\n",
       "      <td>female</td>\n",
       "      <td>35.0</td>\n",
       "      <td>1</td>\n",
       "      <td>0</td>\n",
       "      <td>113803</td>\n",
       "      <td>53.1000</td>\n",
       "      <td>C123</td>\n",
       "      <td>S</td>\n",
       "    </tr>\n",
       "    <tr>\n",
       "      <th>4</th>\n",
       "      <td>5</td>\n",
       "      <td>0</td>\n",
       "      <td>3</td>\n",
       "      <td>Allen, Mr. William Henry</td>\n",
       "      <td>male</td>\n",
       "      <td>35.0</td>\n",
       "      <td>0</td>\n",
       "      <td>0</td>\n",
       "      <td>373450</td>\n",
       "      <td>8.0500</td>\n",
       "      <td>NaN</td>\n",
       "      <td>S</td>\n",
       "    </tr>\n",
       "  </tbody>\n",
       "</table>\n",
       "</div>"
      ],
      "text/plain": [
       "   PassengerId  Survived  Pclass  \\\n",
       "0            1         0       3   \n",
       "1            2         1       1   \n",
       "2            3         1       3   \n",
       "3            4         1       1   \n",
       "4            5         0       3   \n",
       "\n",
       "                                                Name     Sex   Age  SibSp  \\\n",
       "0                            Braund, Mr. Owen Harris    male  22.0      1   \n",
       "1  Cumings, Mrs. John Bradley (Florence Briggs Th...  female  38.0      1   \n",
       "2                             Heikkinen, Miss. Laina  female  26.0      0   \n",
       "3       Futrelle, Mrs. Jacques Heath (Lily May Peel)  female  35.0      1   \n",
       "4                           Allen, Mr. William Henry    male  35.0      0   \n",
       "\n",
       "   Parch            Ticket     Fare Cabin Embarked  \n",
       "0      0         A/5 21171   7.2500   NaN        S  \n",
       "1      0          PC 17599  71.2833   C85        C  \n",
       "2      0  STON/O2. 3101282   7.9250   NaN        S  \n",
       "3      0            113803  53.1000  C123        S  \n",
       "4      0            373450   8.0500   NaN        S  "
      ]
     },
     "execution_count": 4,
     "metadata": {},
     "output_type": "execute_result"
    }
   ],
   "source": [
    "data_train.head()"
   ]
  },
  {
   "cell_type": "code",
   "execution_count": 5,
   "id": "502b4358",
   "metadata": {
    "execution": {
     "iopub.execute_input": "2022-08-16T19:32:07.562053Z",
     "iopub.status.busy": "2022-08-16T19:32:07.561270Z",
     "iopub.status.idle": "2022-08-16T19:32:07.574150Z",
     "shell.execute_reply": "2022-08-16T19:32:07.572724Z"
    },
    "papermill": {
     "duration": 0.025709,
     "end_time": "2022-08-16T19:32:07.577136",
     "exception": false,
     "start_time": "2022-08-16T19:32:07.551427",
     "status": "completed"
    },
    "tags": []
   },
   "outputs": [
    {
     "data": {
      "text/plain": [
       "PassengerId      0\n",
       "Survived         0\n",
       "Pclass           0\n",
       "Name             0\n",
       "Sex              0\n",
       "Age            177\n",
       "SibSp            0\n",
       "Parch            0\n",
       "Ticket           0\n",
       "Fare             0\n",
       "Cabin          687\n",
       "Embarked         2\n",
       "dtype: int64"
      ]
     },
     "execution_count": 5,
     "metadata": {},
     "output_type": "execute_result"
    }
   ],
   "source": [
    "data_train.isnull().sum()"
   ]
  },
  {
   "cell_type": "code",
   "execution_count": 6,
   "id": "9ea85cd1",
   "metadata": {
    "execution": {
     "iopub.execute_input": "2022-08-16T19:32:07.597423Z",
     "iopub.status.busy": "2022-08-16T19:32:07.597035Z",
     "iopub.status.idle": "2022-08-16T19:32:07.605909Z",
     "shell.execute_reply": "2022-08-16T19:32:07.604704Z"
    },
    "papermill": {
     "duration": 0.02153,
     "end_time": "2022-08-16T19:32:07.608482",
     "exception": false,
     "start_time": "2022-08-16T19:32:07.586952",
     "status": "completed"
    },
    "tags": []
   },
   "outputs": [
    {
     "data": {
      "text/plain": [
       "Index(['PassengerId', 'Survived', 'Pclass', 'Name', 'Sex', 'Age', 'SibSp',\n",
       "       'Parch', 'Ticket', 'Fare', 'Cabin', 'Embarked'],\n",
       "      dtype='object')"
      ]
     },
     "execution_count": 6,
     "metadata": {},
     "output_type": "execute_result"
    }
   ],
   "source": [
    "data_train.columns"
   ]
  },
  {
   "cell_type": "code",
   "execution_count": 7,
   "id": "abb12835",
   "metadata": {
    "execution": {
     "iopub.execute_input": "2022-08-16T19:32:07.628209Z",
     "iopub.status.busy": "2022-08-16T19:32:07.627815Z",
     "iopub.status.idle": "2022-08-16T19:32:07.652907Z",
     "shell.execute_reply": "2022-08-16T19:32:07.651538Z"
    },
    "papermill": {
     "duration": 0.03795,
     "end_time": "2022-08-16T19:32:07.655482",
     "exception": false,
     "start_time": "2022-08-16T19:32:07.617532",
     "status": "completed"
    },
    "tags": []
   },
   "outputs": [
    {
     "data": {
      "text/html": [
       "<div>\n",
       "<style scoped>\n",
       "    .dataframe tbody tr th:only-of-type {\n",
       "        vertical-align: middle;\n",
       "    }\n",
       "\n",
       "    .dataframe tbody tr th {\n",
       "        vertical-align: top;\n",
       "    }\n",
       "\n",
       "    .dataframe thead th {\n",
       "        text-align: right;\n",
       "    }\n",
       "</style>\n",
       "<table border=\"1\" class=\"dataframe\">\n",
       "  <thead>\n",
       "    <tr style=\"text-align: right;\">\n",
       "      <th></th>\n",
       "      <th>Pclass</th>\n",
       "      <th>Sex</th>\n",
       "      <th>Age</th>\n",
       "      <th>SibSp</th>\n",
       "      <th>Parch</th>\n",
       "      <th>Fare</th>\n",
       "      <th>Embarked</th>\n",
       "    </tr>\n",
       "  </thead>\n",
       "  <tbody>\n",
       "    <tr>\n",
       "      <th>0</th>\n",
       "      <td>3</td>\n",
       "      <td>male</td>\n",
       "      <td>22.0</td>\n",
       "      <td>1</td>\n",
       "      <td>0</td>\n",
       "      <td>7.2500</td>\n",
       "      <td>S</td>\n",
       "    </tr>\n",
       "    <tr>\n",
       "      <th>1</th>\n",
       "      <td>1</td>\n",
       "      <td>female</td>\n",
       "      <td>38.0</td>\n",
       "      <td>1</td>\n",
       "      <td>0</td>\n",
       "      <td>71.2833</td>\n",
       "      <td>C</td>\n",
       "    </tr>\n",
       "    <tr>\n",
       "      <th>2</th>\n",
       "      <td>3</td>\n",
       "      <td>female</td>\n",
       "      <td>26.0</td>\n",
       "      <td>0</td>\n",
       "      <td>0</td>\n",
       "      <td>7.9250</td>\n",
       "      <td>S</td>\n",
       "    </tr>\n",
       "    <tr>\n",
       "      <th>3</th>\n",
       "      <td>1</td>\n",
       "      <td>female</td>\n",
       "      <td>35.0</td>\n",
       "      <td>1</td>\n",
       "      <td>0</td>\n",
       "      <td>53.1000</td>\n",
       "      <td>S</td>\n",
       "    </tr>\n",
       "    <tr>\n",
       "      <th>4</th>\n",
       "      <td>3</td>\n",
       "      <td>male</td>\n",
       "      <td>35.0</td>\n",
       "      <td>0</td>\n",
       "      <td>0</td>\n",
       "      <td>8.0500</td>\n",
       "      <td>S</td>\n",
       "    </tr>\n",
       "  </tbody>\n",
       "</table>\n",
       "</div>"
      ],
      "text/plain": [
       "   Pclass     Sex   Age  SibSp  Parch     Fare Embarked\n",
       "0       3    male  22.0      1      0   7.2500        S\n",
       "1       1  female  38.0      1      0  71.2833        C\n",
       "2       3  female  26.0      0      0   7.9250        S\n",
       "3       1  female  35.0      1      0  53.1000        S\n",
       "4       3    male  35.0      0      0   8.0500        S"
      ]
     },
     "execution_count": 7,
     "metadata": {},
     "output_type": "execute_result"
    }
   ],
   "source": [
    "feature_columns = [ 'Pclass', 'Sex', 'Age', 'SibSp','Parch','Fare','Embarked']\n",
    "X_train = data_train[feature_columns]\n",
    "Y_train = data_train['Survived']\n",
    "X_train.head()"
   ]
  },
  {
   "cell_type": "code",
   "execution_count": 8,
   "id": "6aab0656",
   "metadata": {
    "execution": {
     "iopub.execute_input": "2022-08-16T19:32:07.677443Z",
     "iopub.status.busy": "2022-08-16T19:32:07.677035Z",
     "iopub.status.idle": "2022-08-16T19:32:07.684516Z",
     "shell.execute_reply": "2022-08-16T19:32:07.682927Z"
    },
    "papermill": {
     "duration": 0.021484,
     "end_time": "2022-08-16T19:32:07.687328",
     "exception": false,
     "start_time": "2022-08-16T19:32:07.665844",
     "status": "completed"
    },
    "tags": []
   },
   "outputs": [],
   "source": [
    "def TranSex(Sex) :\n",
    "    if Sex == \"male\":\n",
    "        return 1\n",
    "    elif Sex == \"female\":\n",
    "        return 0\n",
    "    else :\n",
    "        return 2\n",
    "def TranEmbarked(Embarked) :\n",
    "    if Embarked == 'C' :\n",
    "        return 0\n",
    "    elif Embarked == 'Q':\n",
    "        return 1\n",
    "    else :\n",
    "        return 2"
   ]
  },
  {
   "cell_type": "code",
   "execution_count": 9,
   "id": "034b8f13",
   "metadata": {
    "execution": {
     "iopub.execute_input": "2022-08-16T19:32:07.708229Z",
     "iopub.status.busy": "2022-08-16T19:32:07.707801Z",
     "iopub.status.idle": "2022-08-16T19:32:07.721041Z",
     "shell.execute_reply": "2022-08-16T19:32:07.719798Z"
    },
    "papermill": {
     "duration": 0.026961,
     "end_time": "2022-08-16T19:32:07.723730",
     "exception": false,
     "start_time": "2022-08-16T19:32:07.696769",
     "status": "completed"
    },
    "tags": []
   },
   "outputs": [
    {
     "name": "stderr",
     "output_type": "stream",
     "text": [
      "/opt/conda/lib/python3.7/site-packages/pandas/core/indexing.py:1773: SettingWithCopyWarning: \n",
      "A value is trying to be set on a copy of a slice from a DataFrame.\n",
      "Try using .loc[row_indexer,col_indexer] = value instead\n",
      "\n",
      "See the caveats in the documentation: https://pandas.pydata.org/pandas-docs/stable/user_guide/indexing.html#returning-a-view-versus-a-copy\n",
      "  self._setitem_single_column(ilocs[0], value, pi)\n"
     ]
    }
   ],
   "source": [
    "X_train.loc[:,'Sex'] = X_train.loc[:,'Sex'].apply(TranSex)\n",
    "X_train.loc[:,'Embarked'] = X_train.loc[:,'Embarked'].apply(TranEmbarked)"
   ]
  },
  {
   "cell_type": "code",
   "execution_count": 10,
   "id": "07c78888",
   "metadata": {
    "execution": {
     "iopub.execute_input": "2022-08-16T19:32:07.744004Z",
     "iopub.status.busy": "2022-08-16T19:32:07.743581Z",
     "iopub.status.idle": "2022-08-16T19:32:07.749512Z",
     "shell.execute_reply": "2022-08-16T19:32:07.748489Z"
    },
    "papermill": {
     "duration": 0.019076,
     "end_time": "2022-08-16T19:32:07.752132",
     "exception": false,
     "start_time": "2022-08-16T19:32:07.733056",
     "status": "completed"
    },
    "tags": []
   },
   "outputs": [],
   "source": [
    "X_train = X_train.fillna(X_train['Age'].mean())"
   ]
  },
  {
   "cell_type": "code",
   "execution_count": 11,
   "id": "d6d88680",
   "metadata": {
    "execution": {
     "iopub.execute_input": "2022-08-16T19:32:07.772333Z",
     "iopub.status.busy": "2022-08-16T19:32:07.771950Z",
     "iopub.status.idle": "2022-08-16T19:32:07.781329Z",
     "shell.execute_reply": "2022-08-16T19:32:07.779934Z"
    },
    "papermill": {
     "duration": 0.022697,
     "end_time": "2022-08-16T19:32:07.784069",
     "exception": false,
     "start_time": "2022-08-16T19:32:07.761372",
     "status": "completed"
    },
    "tags": []
   },
   "outputs": [
    {
     "data": {
      "text/plain": [
       "Pclass      0\n",
       "Sex         0\n",
       "Age         0\n",
       "SibSp       0\n",
       "Parch       0\n",
       "Fare        0\n",
       "Embarked    0\n",
       "dtype: int64"
      ]
     },
     "execution_count": 11,
     "metadata": {},
     "output_type": "execute_result"
    }
   ],
   "source": [
    "X_train.isnull().sum()"
   ]
  },
  {
   "cell_type": "code",
   "execution_count": 12,
   "id": "13fa116b",
   "metadata": {
    "execution": {
     "iopub.execute_input": "2022-08-16T19:32:07.805282Z",
     "iopub.status.busy": "2022-08-16T19:32:07.804885Z",
     "iopub.status.idle": "2022-08-16T19:32:07.819888Z",
     "shell.execute_reply": "2022-08-16T19:32:07.818594Z"
    },
    "papermill": {
     "duration": 0.029626,
     "end_time": "2022-08-16T19:32:07.823087",
     "exception": false,
     "start_time": "2022-08-16T19:32:07.793461",
     "status": "completed"
    },
    "tags": []
   },
   "outputs": [
    {
     "data": {
      "text/html": [
       "<div>\n",
       "<style scoped>\n",
       "    .dataframe tbody tr th:only-of-type {\n",
       "        vertical-align: middle;\n",
       "    }\n",
       "\n",
       "    .dataframe tbody tr th {\n",
       "        vertical-align: top;\n",
       "    }\n",
       "\n",
       "    .dataframe thead th {\n",
       "        text-align: right;\n",
       "    }\n",
       "</style>\n",
       "<table border=\"1\" class=\"dataframe\">\n",
       "  <thead>\n",
       "    <tr style=\"text-align: right;\">\n",
       "      <th></th>\n",
       "      <th>Pclass</th>\n",
       "      <th>Sex</th>\n",
       "      <th>Age</th>\n",
       "      <th>SibSp</th>\n",
       "      <th>Parch</th>\n",
       "      <th>Fare</th>\n",
       "      <th>Embarked</th>\n",
       "    </tr>\n",
       "  </thead>\n",
       "  <tbody>\n",
       "    <tr>\n",
       "      <th>0</th>\n",
       "      <td>3</td>\n",
       "      <td>1</td>\n",
       "      <td>22.0</td>\n",
       "      <td>1</td>\n",
       "      <td>0</td>\n",
       "      <td>7.2500</td>\n",
       "      <td>2</td>\n",
       "    </tr>\n",
       "    <tr>\n",
       "      <th>1</th>\n",
       "      <td>1</td>\n",
       "      <td>0</td>\n",
       "      <td>38.0</td>\n",
       "      <td>1</td>\n",
       "      <td>0</td>\n",
       "      <td>71.2833</td>\n",
       "      <td>0</td>\n",
       "    </tr>\n",
       "    <tr>\n",
       "      <th>2</th>\n",
       "      <td>3</td>\n",
       "      <td>0</td>\n",
       "      <td>26.0</td>\n",
       "      <td>0</td>\n",
       "      <td>0</td>\n",
       "      <td>7.9250</td>\n",
       "      <td>2</td>\n",
       "    </tr>\n",
       "    <tr>\n",
       "      <th>3</th>\n",
       "      <td>1</td>\n",
       "      <td>0</td>\n",
       "      <td>35.0</td>\n",
       "      <td>1</td>\n",
       "      <td>0</td>\n",
       "      <td>53.1000</td>\n",
       "      <td>2</td>\n",
       "    </tr>\n",
       "    <tr>\n",
       "      <th>4</th>\n",
       "      <td>3</td>\n",
       "      <td>1</td>\n",
       "      <td>35.0</td>\n",
       "      <td>0</td>\n",
       "      <td>0</td>\n",
       "      <td>8.0500</td>\n",
       "      <td>2</td>\n",
       "    </tr>\n",
       "  </tbody>\n",
       "</table>\n",
       "</div>"
      ],
      "text/plain": [
       "   Pclass  Sex   Age  SibSp  Parch     Fare  Embarked\n",
       "0       3    1  22.0      1      0   7.2500         2\n",
       "1       1    0  38.0      1      0  71.2833         0\n",
       "2       3    0  26.0      0      0   7.9250         2\n",
       "3       1    0  35.0      1      0  53.1000         2\n",
       "4       3    1  35.0      0      0   8.0500         2"
      ]
     },
     "execution_count": 12,
     "metadata": {},
     "output_type": "execute_result"
    }
   ],
   "source": [
    "X_train.head()"
   ]
  },
  {
   "cell_type": "code",
   "execution_count": 13,
   "id": "11de1778",
   "metadata": {
    "execution": {
     "iopub.execute_input": "2022-08-16T19:32:07.845351Z",
     "iopub.status.busy": "2022-08-16T19:32:07.844757Z",
     "iopub.status.idle": "2022-08-16T19:32:09.009432Z",
     "shell.execute_reply": "2022-08-16T19:32:09.007851Z"
    },
    "papermill": {
     "duration": 1.178758,
     "end_time": "2022-08-16T19:32:09.012301",
     "exception": false,
     "start_time": "2022-08-16T19:32:07.833543",
     "status": "completed"
    },
    "tags": []
   },
   "outputs": [
    {
     "data": {
      "image/png": "[encoded data removed]",
      "text/plain": [
       "<Figure size 1800x216 with 2 Axes>"
      ]
     },
     "metadata": {
      "needs_background": "light"
     },
     "output_type": "display_data"
    },
    {
     "data": {
      "image/png": "[encoded data removed]",
      "text/plain": [
       "<Figure size 1800x216 with 3 Axes>"
      ]
     },
     "metadata": {
      "needs_background": "light"
     },
     "output_type": "display_data"
    },
    {
     "data": {
      "image/png": "[encoded data removed]",
      "text/plain": [
       "<Figure size 1800x216 with 2 Axes>"
      ]
     },
     "metadata": {
      "needs_background": "light"
     },
     "output_type": "display_data"
    }
   ],
   "source": [
    "fig,ax1=plt.subplots(1, 2, figsize=(25, 3), sharey=True)\n",
    "fig,ax2=plt.subplots(1, 3, figsize=(25, 3), sharey=True)\n",
    "fig,ax3=plt.subplots(1, 2, figsize=(25, 3), sharey=True)\n",
    "i=0\n",
    "for feature in ['Age' , 'Fare']:\n",
    "    ax1[i].scatter(X_train[feature],Y_train)\n",
    "    ax1[i].set_xlabel(feature)\n",
    "    i+=1\n",
    "i=0\n",
    "for feature in ['Sex' , 'SibSp' ,'Parch']:\n",
    "    ax2[i].scatter(X_train[feature],Y_train)\n",
    "    ax2[i].set_xlabel(feature)\n",
    "    i+=1\n",
    "i=0\n",
    "for feature in ['Pclass' , 'Embarked'] :\n",
    "    ax3[i].scatter(X_train[feature],Y_train)\n",
    "    ax3[i].set_xlabel(feature)\n",
    "    i+=1\n",
    "ax1[0].set_ylabel(\"Servive\")\n",
    "ax2[0].set_ylabel(\"Servive\")\n",
    "ax3[0].set_ylabel(\"Servive\")\n",
    "plt.show()"
   ]
  },
  {
   "cell_type": "code",
   "execution_count": 14,
   "id": "a06ec7bf",
   "metadata": {
    "execution": {
     "iopub.execute_input": "2022-08-16T19:32:09.036597Z",
     "iopub.status.busy": "2022-08-16T19:32:09.036180Z",
     "iopub.status.idle": "2022-08-16T19:32:10.496738Z",
     "shell.execute_reply": "2022-08-16T19:32:10.495044Z"
    },
    "papermill": {
     "duration": 1.47697,
     "end_time": "2022-08-16T19:32:10.500028",
     "exception": false,
     "start_time": "2022-08-16T19:32:09.023058",
     "status": "completed"
    },
    "tags": []
   },
   "outputs": [
    {
     "data": {
      "text/plain": [
       "LogisticRegression()"
      ]
     },
     "execution_count": 14,
     "metadata": {},
     "output_type": "execute_result"
    }
   ],
   "source": [
    "from sklearn.linear_model import LogisticRegression\n",
    "\n",
    "lr_model = LogisticRegression()\n",
    "lr_model.fit(X_train, Y_train)"
   ]
  },
  {
   "cell_type": "code",
   "execution_count": 15,
   "id": "0e50d271",
   "metadata": {
    "execution": {
     "iopub.execute_input": "2022-08-16T19:32:10.524964Z",
     "iopub.status.busy": "2022-08-16T19:32:10.524487Z",
     "iopub.status.idle": "2022-08-16T19:32:10.532836Z",
     "shell.execute_reply": "2022-08-16T19:32:10.531398Z"
    },
    "papermill": {
     "duration": 0.023772,
     "end_time": "2022-08-16T19:32:10.535677",
     "exception": false,
     "start_time": "2022-08-16T19:32:10.511905",
     "status": "completed"
    },
    "tags": []
   },
   "outputs": [],
   "source": [
    "Y_pred = lr_model.predict(X_train)"
   ]
  },
  {
   "cell_type": "code",
   "execution_count": 16,
   "id": "d251b939",
   "metadata": {
    "execution": {
     "iopub.execute_input": "2022-08-16T19:32:10.560030Z",
     "iopub.status.busy": "2022-08-16T19:32:10.559555Z",
     "iopub.status.idle": "2022-08-16T19:32:11.714564Z",
     "shell.execute_reply": "2022-08-16T19:32:11.713426Z"
    },
    "papermill": {
     "duration": 1.17084,
     "end_time": "2022-08-16T19:32:11.717346",
     "exception": false,
     "start_time": "2022-08-16T19:32:10.546506",
     "status": "completed"
    },
    "tags": []
   },
   "outputs": [
    {
     "data": {
      "image/png": "[encoded data removed]",
      "text/plain": [
       "<Figure size 1800x216 with 2 Axes>"
      ]
     },
     "metadata": {
      "needs_background": "light"
     },
     "output_type": "display_data"
    },
    {
     "data": {
      "image/png": "[encoded data removed]",
      "text/plain": [
       "<Figure size 1800x216 with 3 Axes>"
      ]
     },
     "metadata": {
      "needs_background": "light"
     },
     "output_type": "display_data"
    },
    {
     "data": {
      "image/png": "[encoded data removed]",
      "text/plain": [
       "<Figure size 1800x216 with 2 Axes>"
      ]
     },
     "metadata": {
      "needs_background": "light"
     },
     "output_type": "display_data"
    }
   ],
   "source": [
    "fig,ax1=plt.subplots(1, 2, figsize=(25, 3), sharey=True)\n",
    "fig,ax2=plt.subplots(1, 3, figsize=(25, 3), sharey=True)\n",
    "fig,ax3=plt.subplots(1, 2, figsize=(25, 3), sharey=True)\n",
    "i=0\n",
    "for feature in ['Age' , 'Fare']:\n",
    "    ax1[i].scatter(X_train[feature],Y_train)\n",
    "    ax1[i].scatter(X_train[feature],Y_pred ,color='orange')\n",
    "    ax1[i].set_xlabel(feature)\n",
    "    i+=1\n",
    "i=0\n",
    "for feature in ['Sex' , 'SibSp' ,'Parch']:\n",
    "    ax2[i].scatter(X_train[feature],Y_train)\n",
    "    ax2[i].scatter(X_train[feature],Y_pred ,color='orange')\n",
    "    ax2[i].set_xlabel(feature)\n",
    "    i+=1\n",
    "i=0\n",
    "for feature in ['Pclass' , 'Embarked'] :\n",
    "    ax3[i].scatter(X_train[feature],Y_train)\n",
    "    ax3[i].scatter(X_train[feature],Y_pred ,color= 'orange')\n",
    "    ax3[i].set_xlabel(feature)\n",
    "    i+=1\n",
    "ax1[0].set_ylabel(\"Servive\")\n",
    "ax2[0].set_ylabel(\"Servive\")\n",
    "ax3[0].set_ylabel(\"Servive\")\n",
    "plt.show()"
   ]
  },
  {
   "cell_type": "code",
   "execution_count": 17,
   "id": "e9b04819",
   "metadata": {
    "execution": {
     "iopub.execute_input": "2022-08-16T19:32:11.743430Z",
     "iopub.status.busy": "2022-08-16T19:32:11.742451Z",
     "iopub.status.idle": "2022-08-16T19:32:11.752037Z",
     "shell.execute_reply": "2022-08-16T19:32:11.750049Z"
    },
    "papermill": {
     "duration": 0.025546,
     "end_time": "2022-08-16T19:32:11.754863",
     "exception": false,
     "start_time": "2022-08-16T19:32:11.729317",
     "status": "completed"
    },
    "tags": []
   },
   "outputs": [
    {
     "name": "stdout",
     "output_type": "stream",
     "text": [
      "Accuracy on training set: 0.8002244668911336\n"
     ]
    }
   ],
   "source": [
    "print(\"Accuracy on training set:\", lr_model.score(X_train, Y_train))"
   ]
  },
  {
   "cell_type": "code",
   "execution_count": 18,
   "id": "8fce0f16",
   "metadata": {
    "execution": {
     "iopub.execute_input": "2022-08-16T19:32:11.779981Z",
     "iopub.status.busy": "2022-08-16T19:32:11.779342Z",
     "iopub.status.idle": "2022-08-16T19:32:11.794973Z",
     "shell.execute_reply": "2022-08-16T19:32:11.793715Z"
    },
    "papermill": {
     "duration": 0.031221,
     "end_time": "2022-08-16T19:32:11.797684",
     "exception": false,
     "start_time": "2022-08-16T19:32:11.766463",
     "status": "completed"
    },
    "tags": []
   },
   "outputs": [],
   "source": [
    "data_test = pd.read_csv('../input/titanic/test.csv')"
   ]
  },
  {
   "cell_type": "code",
   "execution_count": 19,
   "id": "a5f28b63",
   "metadata": {
    "execution": {
     "iopub.execute_input": "2022-08-16T19:32:11.823248Z",
     "iopub.status.busy": "2022-08-16T19:32:11.822840Z",
     "iopub.status.idle": "2022-08-16T19:32:11.841452Z",
     "shell.execute_reply": "2022-08-16T19:32:11.839336Z"
    },
    "papermill": {
     "duration": 0.034929,
     "end_time": "2022-08-16T19:32:11.844269",
     "exception": false,
     "start_time": "2022-08-16T19:32:11.809340",
     "status": "completed"
    },
    "tags": []
   },
   "outputs": [
    {
     "data": {
      "text/html": [
       "<div>\n",
       "<style scoped>\n",
       "    .dataframe tbody tr th:only-of-type {\n",
       "        vertical-align: middle;\n",
       "    }\n",
       "\n",
       "    .dataframe tbody tr th {\n",
       "        vertical-align: top;\n",
       "    }\n",
       "\n",
       "    .dataframe thead th {\n",
       "        text-align: right;\n",
       "    }\n",
       "</style>\n",
       "<table border=\"1\" class=\"dataframe\">\n",
       "  <thead>\n",
       "    <tr style=\"text-align: right;\">\n",
       "      <th></th>\n",
       "      <th>PassengerId</th>\n",
       "      <th>Pclass</th>\n",
       "      <th>Name</th>\n",
       "      <th>Sex</th>\n",
       "      <th>Age</th>\n",
       "      <th>SibSp</th>\n",
       "      <th>Parch</th>\n",
       "      <th>Ticket</th>\n",
       "      <th>Fare</th>\n",
       "      <th>Cabin</th>\n",
       "      <th>Embarked</th>\n",
       "    </tr>\n",
       "  </thead>\n",
       "  <tbody>\n",
       "    <tr>\n",
       "      <th>0</th>\n",
       "      <td>892</td>\n",
       "      <td>3</td>\n",
       "      <td>Kelly, Mr. James</td>\n",
       "      <td>male</td>\n",
       "      <td>34.5</td>\n",
       "      <td>0</td>\n",
       "      <td>0</td>\n",
       "      <td>330911</td>\n",
       "      <td>7.8292</td>\n",
       "      <td>NaN</td>\n",
       "      <td>Q</td>\n",
       "    </tr>\n",
       "    <tr>\n",
       "      <th>1</th>\n",
       "      <td>893</td>\n",
       "      <td>3</td>\n",
       "      <td>Wilkes, Mrs. James (Ellen Needs)</td>\n",
       "      <td>female</td>\n",
       "      <td>47.0</td>\n",
       "      <td>1</td>\n",
       "      <td>0</td>\n",
       "      <td>363272</td>\n",
       "      <td>7.0000</td>\n",
       "      <td>NaN</td>\n",
       "      <td>S</td>\n",
       "    </tr>\n",
       "    <tr>\n",
       "      <th>2</th>\n",
       "      <td>894</td>\n",
       "      <td>2</td>\n",
       "      <td>Myles, Mr. Thomas Francis</td>\n",
       "      <td>male</td>\n",
       "      <td>62.0</td>\n",
       "      <td>0</td>\n",
       "      <td>0</td>\n",
       "      <td>240276</td>\n",
       "      <td>9.6875</td>\n",
       "      <td>NaN</td>\n",
       "      <td>Q</td>\n",
       "    </tr>\n",
       "    <tr>\n",
       "      <th>3</th>\n",
       "      <td>895</td>\n",
       "      <td>3</td>\n",
       "      <td>Wirz, Mr. Albert</td>\n",
       "      <td>male</td>\n",
       "      <td>27.0</td>\n",
       "      <td>0</td>\n",
       "      <td>0</td>\n",
       "      <td>315154</td>\n",
       "      <td>8.6625</td>\n",
       "      <td>NaN</td>\n",
       "      <td>S</td>\n",
       "    </tr>\n",
       "    <tr>\n",
       "      <th>4</th>\n",
       "      <td>896</td>\n",
       "      <td>3</td>\n",
       "      <td>Hirvonen, Mrs. Alexander (Helga E Lindqvist)</td>\n",
       "      <td>female</td>\n",
       "      <td>22.0</td>\n",
       "      <td>1</td>\n",
       "      <td>1</td>\n",
       "      <td>3101298</td>\n",
       "      <td>12.2875</td>\n",
       "      <td>NaN</td>\n",
       "      <td>S</td>\n",
       "    </tr>\n",
       "  </tbody>\n",
       "</table>\n",
       "</div>"
      ],
      "text/plain": [
       "   PassengerId  Pclass                                          Name     Sex  \\\n",
       "0          892       3                              Kelly, Mr. James    male   \n",
       "1          893       3              Wilkes, Mrs. James (Ellen Needs)  female   \n",
       "2          894       2                     Myles, Mr. Thomas Francis    male   \n",
       "3          895       3                              Wirz, Mr. Albert    male   \n",
       "4          896       3  Hirvonen, Mrs. Alexander (Helga E Lindqvist)  female   \n",
       "\n",
       "    Age  SibSp  Parch   Ticket     Fare Cabin Embarked  \n",
       "0  34.5      0      0   330911   7.8292   NaN        Q  \n",
       "1  47.0      1      0   363272   7.0000   NaN        S  \n",
       "2  62.0      0      0   240276   9.6875   NaN        Q  \n",
       "3  27.0      0      0   315154   8.6625   NaN        S  \n",
       "4  22.0      1      1  3101298  12.2875   NaN        S  "
      ]
     },
     "execution_count": 19,
     "metadata": {},
     "output_type": "execute_result"
    }
   ],
   "source": [
    "data_test.head()"
   ]
  },
  {
   "cell_type": "code",
   "execution_count": 20,
   "id": "64fdb9e5",
   "metadata": {
    "execution": {
     "iopub.execute_input": "2022-08-16T19:32:11.871263Z",
     "iopub.status.busy": "2022-08-16T19:32:11.870870Z",
     "iopub.status.idle": "2022-08-16T19:32:11.876760Z",
     "shell.execute_reply": "2022-08-16T19:32:11.875756Z"
    },
    "papermill": {
     "duration": 0.021275,
     "end_time": "2022-08-16T19:32:11.879010",
     "exception": false,
     "start_time": "2022-08-16T19:32:11.857735",
     "status": "completed"
    },
    "tags": []
   },
   "outputs": [],
   "source": [
    "X_test = data_test[feature_columns]"
   ]
  },
  {
   "cell_type": "code",
   "execution_count": 21,
   "id": "f2278934",
   "metadata": {
    "execution": {
     "iopub.execute_input": "2022-08-16T19:32:11.904870Z",
     "iopub.status.busy": "2022-08-16T19:32:11.904362Z",
     "iopub.status.idle": "2022-08-16T19:32:11.924740Z",
     "shell.execute_reply": "2022-08-16T19:32:11.923628Z"
    },
    "papermill": {
     "duration": 0.036255,
     "end_time": "2022-08-16T19:32:11.927121",
     "exception": false,
     "start_time": "2022-08-16T19:32:11.890866",
     "status": "completed"
    },
    "tags": []
   },
   "outputs": [
    {
     "data": {
      "text/html": [
       "<div>\n",
       "<style scoped>\n",
       "    .dataframe tbody tr th:only-of-type {\n",
       "        vertical-align: middle;\n",
       "    }\n",
       "\n",
       "    .dataframe tbody tr th {\n",
       "        vertical-align: top;\n",
       "    }\n",
       "\n",
       "    .dataframe thead th {\n",
       "        text-align: right;\n",
       "    }\n",
       "</style>\n",
       "<table border=\"1\" class=\"dataframe\">\n",
       "  <thead>\n",
       "    <tr style=\"text-align: right;\">\n",
       "      <th></th>\n",
       "      <th>Pclass</th>\n",
       "      <th>Sex</th>\n",
       "      <th>Age</th>\n",
       "      <th>SibSp</th>\n",
       "      <th>Parch</th>\n",
       "      <th>Fare</th>\n",
       "      <th>Embarked</th>\n",
       "    </tr>\n",
       "  </thead>\n",
       "  <tbody>\n",
       "    <tr>\n",
       "      <th>0</th>\n",
       "      <td>3</td>\n",
       "      <td>male</td>\n",
       "      <td>34.5</td>\n",
       "      <td>0</td>\n",
       "      <td>0</td>\n",
       "      <td>7.8292</td>\n",
       "      <td>Q</td>\n",
       "    </tr>\n",
       "    <tr>\n",
       "      <th>1</th>\n",
       "      <td>3</td>\n",
       "      <td>female</td>\n",
       "      <td>47.0</td>\n",
       "      <td>1</td>\n",
       "      <td>0</td>\n",
       "      <td>7.0000</td>\n",
       "      <td>S</td>\n",
       "    </tr>\n",
       "    <tr>\n",
       "      <th>2</th>\n",
       "      <td>2</td>\n",
       "      <td>male</td>\n",
       "      <td>62.0</td>\n",
       "      <td>0</td>\n",
       "      <td>0</td>\n",
       "      <td>9.6875</td>\n",
       "      <td>Q</td>\n",
       "    </tr>\n",
       "    <tr>\n",
       "      <th>3</th>\n",
       "      <td>3</td>\n",
       "      <td>male</td>\n",
       "      <td>27.0</td>\n",
       "      <td>0</td>\n",
       "      <td>0</td>\n",
       "      <td>8.6625</td>\n",
       "      <td>S</td>\n",
       "    </tr>\n",
       "    <tr>\n",
       "      <th>4</th>\n",
       "      <td>3</td>\n",
       "      <td>female</td>\n",
       "      <td>22.0</td>\n",
       "      <td>1</td>\n",
       "      <td>1</td>\n",
       "      <td>12.2875</td>\n",
       "      <td>S</td>\n",
       "    </tr>\n",
       "    <tr>\n",
       "      <th>...</th>\n",
       "      <td>...</td>\n",
       "      <td>...</td>\n",
       "      <td>...</td>\n",
       "      <td>...</td>\n",
       "      <td>...</td>\n",
       "      <td>...</td>\n",
       "      <td>...</td>\n",
       "    </tr>\n",
       "    <tr>\n",
       "      <th>413</th>\n",
       "      <td>3</td>\n",
       "      <td>male</td>\n",
       "      <td>NaN</td>\n",
       "      <td>0</td>\n",
       "      <td>0</td>\n",
       "      <td>8.0500</td>\n",
       "      <td>S</td>\n",
       "    </tr>\n",
       "    <tr>\n",
       "      <th>414</th>\n",
       "      <td>1</td>\n",
       "      <td>female</td>\n",
       "      <td>39.0</td>\n",
       "      <td>0</td>\n",
       "      <td>0</td>\n",
       "      <td>108.9000</td>\n",
       "      <td>C</td>\n",
       "    </tr>\n",
       "    <tr>\n",
       "      <th>415</th>\n",
       "      <td>3</td>\n",
       "      <td>male</td>\n",
       "      <td>38.5</td>\n",
       "      <td>0</td>\n",
       "      <td>0</td>\n",
       "      <td>7.2500</td>\n",
       "      <td>S</td>\n",
       "    </tr>\n",
       "    <tr>\n",
       "      <th>416</th>\n",
       "      <td>3</td>\n",
       "      <td>male</td>\n",
       "      <td>NaN</td>\n",
       "      <td>0</td>\n",
       "      <td>0</td>\n",
       "      <td>8.0500</td>\n",
       "      <td>S</td>\n",
       "    </tr>\n",
       "    <tr>\n",
       "      <th>417</th>\n",
       "      <td>3</td>\n",
       "      <td>male</td>\n",
       "      <td>NaN</td>\n",
       "      <td>1</td>\n",
       "      <td>1</td>\n",
       "      <td>22.3583</td>\n",
       "      <td>C</td>\n",
       "    </tr>\n",
       "  </tbody>\n",
       "</table>\n",
       "<p>418 rows × 7 columns</p>\n",
       "</div>"
      ],
      "text/plain": [
       "     Pclass     Sex   Age  SibSp  Parch      Fare Embarked\n",
       "0         3    male  34.5      0      0    7.8292        Q\n",
       "1         3  female  47.0      1      0    7.0000        S\n",
       "2         2    male  62.0      0      0    9.6875        Q\n",
       "3         3    male  27.0      0      0    8.6625        S\n",
       "4         3  female  22.0      1      1   12.2875        S\n",
       "..      ...     ...   ...    ...    ...       ...      ...\n",
       "413       3    male   NaN      0      0    8.0500        S\n",
       "414       1  female  39.0      0      0  108.9000        C\n",
       "415       3    male  38.5      0      0    7.2500        S\n",
       "416       3    male   NaN      0      0    8.0500        S\n",
       "417       3    male   NaN      1      1   22.3583        C\n",
       "\n",
       "[418 rows x 7 columns]"
      ]
     },
     "execution_count": 21,
     "metadata": {},
     "output_type": "execute_result"
    }
   ],
   "source": [
    "X_test"
   ]
  },
  {
   "cell_type": "code",
   "execution_count": 22,
   "id": "903e01a8",
   "metadata": {
    "execution": {
     "iopub.execute_input": "2022-08-16T19:32:11.954046Z",
     "iopub.status.busy": "2022-08-16T19:32:11.953322Z",
     "iopub.status.idle": "2022-08-16T19:32:11.962307Z",
     "shell.execute_reply": "2022-08-16T19:32:11.961145Z"
    },
    "papermill": {
     "duration": 0.025333,
     "end_time": "2022-08-16T19:32:11.964984",
     "exception": false,
     "start_time": "2022-08-16T19:32:11.939651",
     "status": "completed"
    },
    "tags": []
   },
   "outputs": [
    {
     "name": "stderr",
     "output_type": "stream",
     "text": [
      "/opt/conda/lib/python3.7/site-packages/pandas/core/indexing.py:1773: SettingWithCopyWarning: \n",
      "A value is trying to be set on a copy of a slice from a DataFrame.\n",
      "Try using .loc[row_indexer,col_indexer] = value instead\n",
      "\n",
      "See the caveats in the documentation: https://pandas.pydata.org/pandas-docs/stable/user_guide/indexing.html#returning-a-view-versus-a-copy\n",
      "  self._setitem_single_column(ilocs[0], value, pi)\n"
     ]
    }
   ],
   "source": [
    "X_test.loc[:,'Sex'] = X_test.loc[:,'Sex'].apply(TranSex)\n",
    "X_test.loc[:,'Embarked'] = X_test.loc[:,'Embarked'].apply(TranEmbarked)"
   ]
  },
  {
   "cell_type": "code",
   "execution_count": 23,
   "id": "d1cd6c64",
   "metadata": {
    "execution": {
     "iopub.execute_input": "2022-08-16T19:32:11.991447Z",
     "iopub.status.busy": "2022-08-16T19:32:11.991015Z",
     "iopub.status.idle": "2022-08-16T19:32:12.004536Z",
     "shell.execute_reply": "2022-08-16T19:32:12.003601Z"
    },
    "papermill": {
     "duration": 0.029961,
     "end_time": "2022-08-16T19:32:12.007543",
     "exception": false,
     "start_time": "2022-08-16T19:32:11.977582",
     "status": "completed"
    },
    "tags": []
   },
   "outputs": [
    {
     "data": {
      "text/html": [
       "<div>\n",
       "<style scoped>\n",
       "    .dataframe tbody tr th:only-of-type {\n",
       "        vertical-align: middle;\n",
       "    }\n",
       "\n",
       "    .dataframe tbody tr th {\n",
       "        vertical-align: top;\n",
       "    }\n",
       "\n",
       "    .dataframe thead th {\n",
       "        text-align: right;\n",
       "    }\n",
       "</style>\n",
       "<table border=\"1\" class=\"dataframe\">\n",
       "  <thead>\n",
       "    <tr style=\"text-align: right;\">\n",
       "      <th></th>\n",
       "      <th>Pclass</th>\n",
       "      <th>Sex</th>\n",
       "      <th>Age</th>\n",
       "      <th>SibSp</th>\n",
       "      <th>Parch</th>\n",
       "      <th>Fare</th>\n",
       "      <th>Embarked</th>\n",
       "    </tr>\n",
       "  </thead>\n",
       "  <tbody>\n",
       "    <tr>\n",
       "      <th>0</th>\n",
       "      <td>3</td>\n",
       "      <td>1</td>\n",
       "      <td>34.5</td>\n",
       "      <td>0</td>\n",
       "      <td>0</td>\n",
       "      <td>7.8292</td>\n",
       "      <td>1</td>\n",
       "    </tr>\n",
       "    <tr>\n",
       "      <th>1</th>\n",
       "      <td>3</td>\n",
       "      <td>0</td>\n",
       "      <td>47.0</td>\n",
       "      <td>1</td>\n",
       "      <td>0</td>\n",
       "      <td>7.0000</td>\n",
       "      <td>2</td>\n",
       "    </tr>\n",
       "    <tr>\n",
       "      <th>2</th>\n",
       "      <td>2</td>\n",
       "      <td>1</td>\n",
       "      <td>62.0</td>\n",
       "      <td>0</td>\n",
       "      <td>0</td>\n",
       "      <td>9.6875</td>\n",
       "      <td>1</td>\n",
       "    </tr>\n",
       "    <tr>\n",
       "      <th>3</th>\n",
       "      <td>3</td>\n",
       "      <td>1</td>\n",
       "      <td>27.0</td>\n",
       "      <td>0</td>\n",
       "      <td>0</td>\n",
       "      <td>8.6625</td>\n",
       "      <td>2</td>\n",
       "    </tr>\n",
       "    <tr>\n",
       "      <th>4</th>\n",
       "      <td>3</td>\n",
       "      <td>0</td>\n",
       "      <td>22.0</td>\n",
       "      <td>1</td>\n",
       "      <td>1</td>\n",
       "      <td>12.2875</td>\n",
       "      <td>2</td>\n",
       "    </tr>\n",
       "  </tbody>\n",
       "</table>\n",
       "</div>"
      ],
      "text/plain": [
       "   Pclass  Sex   Age  SibSp  Parch     Fare  Embarked\n",
       "0       3    1  34.5      0      0   7.8292         1\n",
       "1       3    0  47.0      1      0   7.0000         2\n",
       "2       2    1  62.0      0      0   9.6875         1\n",
       "3       3    1  27.0      0      0   8.6625         2\n",
       "4       3    0  22.0      1      1  12.2875         2"
      ]
     },
     "execution_count": 23,
     "metadata": {},
     "output_type": "execute_result"
    }
   ],
   "source": [
    "X_test.head()"
   ]
  },
  {
   "cell_type": "code",
   "execution_count": 24,
   "id": "3222a6f8",
   "metadata": {
    "execution": {
     "iopub.execute_input": "2022-08-16T19:32:12.034670Z",
     "iopub.status.busy": "2022-08-16T19:32:12.033551Z",
     "iopub.status.idle": "2022-08-16T19:32:12.044784Z",
     "shell.execute_reply": "2022-08-16T19:32:12.043713Z"
    },
    "papermill": {
     "duration": 0.027803,
     "end_time": "2022-08-16T19:32:12.047631",
     "exception": false,
     "start_time": "2022-08-16T19:32:12.019828",
     "status": "completed"
    },
    "tags": []
   },
   "outputs": [
    {
     "data": {
      "text/plain": [
       "Pclass       0\n",
       "Sex          0\n",
       "Age         86\n",
       "SibSp        0\n",
       "Parch        0\n",
       "Fare         1\n",
       "Embarked     0\n",
       "dtype: int64"
      ]
     },
     "execution_count": 24,
     "metadata": {},
     "output_type": "execute_result"
    }
   ],
   "source": [
    "X_test.isnull().sum()"
   ]
  },
  {
   "cell_type": "code",
   "execution_count": 25,
   "id": "e196dda9",
   "metadata": {
    "execution": {
     "iopub.execute_input": "2022-08-16T19:32:12.075899Z",
     "iopub.status.busy": "2022-08-16T19:32:12.074096Z",
     "iopub.status.idle": "2022-08-16T19:32:12.082655Z",
     "shell.execute_reply": "2022-08-16T19:32:12.081520Z"
    },
    "papermill": {
     "duration": 0.025207,
     "end_time": "2022-08-16T19:32:12.085412",
     "exception": false,
     "start_time": "2022-08-16T19:32:12.060205",
     "status": "completed"
    },
    "tags": []
   },
   "outputs": [],
   "source": [
    "X_test = X_test.fillna(X_test['Age'].mean())"
   ]
  },
  {
   "cell_type": "code",
   "execution_count": 26,
   "id": "ea5a6e21",
   "metadata": {
    "execution": {
     "iopub.execute_input": "2022-08-16T19:32:12.113526Z",
     "iopub.status.busy": "2022-08-16T19:32:12.112642Z",
     "iopub.status.idle": "2022-08-16T19:32:12.122454Z",
     "shell.execute_reply": "2022-08-16T19:32:12.121294Z"
    },
    "papermill": {
     "duration": 0.026401,
     "end_time": "2022-08-16T19:32:12.125097",
     "exception": false,
     "start_time": "2022-08-16T19:32:12.098696",
     "status": "completed"
    },
    "tags": []
   },
   "outputs": [
    {
     "data": {
      "text/plain": [
       "Pclass      0\n",
       "Sex         0\n",
       "Age         0\n",
       "SibSp       0\n",
       "Parch       0\n",
       "Fare        0\n",
       "Embarked    0\n",
       "dtype: int64"
      ]
     },
     "execution_count": 26,
     "metadata": {},
     "output_type": "execute_result"
    }
   ],
   "source": [
    "X_test.isnull().sum()"
   ]
  },
  {
   "cell_type": "code",
   "execution_count": 27,
   "id": "e7bf03f0",
   "metadata": {
    "execution": {
     "iopub.execute_input": "2022-08-16T19:32:12.153695Z",
     "iopub.status.busy": "2022-08-16T19:32:12.152425Z",
     "iopub.status.idle": "2022-08-16T19:32:12.160520Z",
     "shell.execute_reply": "2022-08-16T19:32:12.159676Z"
    },
    "papermill": {
     "duration": 0.025708,
     "end_time": "2022-08-16T19:32:12.163125",
     "exception": false,
     "start_time": "2022-08-16T19:32:12.137417",
     "status": "completed"
    },
    "tags": []
   },
   "outputs": [],
   "source": [
    "Y_test = lr_model.predict(X_test)"
   ]
  },
  {
   "cell_type": "code",
   "execution_count": 28,
   "id": "463eb6d5",
   "metadata": {
    "execution": {
     "iopub.execute_input": "2022-08-16T19:32:12.190615Z",
     "iopub.status.busy": "2022-08-16T19:32:12.189778Z",
     "iopub.status.idle": "2022-08-16T19:32:12.201968Z",
     "shell.execute_reply": "2022-08-16T19:32:12.200714Z"
    },
    "papermill": {
     "duration": 0.029272,
     "end_time": "2022-08-16T19:32:12.204769",
     "exception": false,
     "start_time": "2022-08-16T19:32:12.175497",
     "status": "completed"
    },
    "tags": []
   },
   "outputs": [],
   "source": [
    "pd.DataFrame({ 'PassengerId' : data_test['PassengerId'] ,'Survived' : Y_test}).to_csv(\"./file.csv\")"
   ]
  },
  {
   "cell_type": "code",
   "execution_count": 29,
   "id": "062d305a",
   "metadata": {
    "execution": {
     "iopub.execute_input": "2022-08-16T19:32:12.232995Z",
     "iopub.status.busy": "2022-08-16T19:32:12.232547Z",
     "iopub.status.idle": "2022-08-16T19:32:12.239712Z",
     "shell.execute_reply": "2022-08-16T19:32:12.238273Z"
    },
    "papermill": {
     "duration": 0.02416,
     "end_time": "2022-08-16T19:32:12.242101",
     "exception": false,
     "start_time": "2022-08-16T19:32:12.217941",
     "status": "completed"
    },
    "tags": []
   },
   "outputs": [],
   "source": [
    "def zscore_normalize_features(X):\n",
    "    \"\"\"\n",
    "    computes  X, zcore normalized by column\n",
    "    \n",
    "    Args:\n",
    "      X (ndarray (m,n))     : input data, m examples, n features\n",
    "      \n",
    "    Returns:\n",
    "      X_norm (ndarray (m,n)): input normalized by column\n",
    "      mu (ndarray (n,))     : mean of each feature\n",
    "      sigma (ndarray (n,))  : standard deviation of each feature\n",
    "    \"\"\"\n",
    "    # find the mean of each column/feature\n",
    "    mu     = np.mean(X, axis=0)                 # mu will have shape (n,)\n",
    "    # find the standard deviation of each column/feature\n",
    "    sigma  = np.std(X, axis=0)                  # sigma will have shape (n,)\n",
    "    # element-wise, subtract mu for that column from each example, divide by std for that column\n",
    "    X_norm = (X - mu) / sigma      \n",
    "\n",
    "    return X_norm"
   ]
  },
  {
   "cell_type": "code",
   "execution_count": 30,
   "id": "e833ef35",
   "metadata": {
    "execution": {
     "iopub.execute_input": "2022-08-16T19:32:12.269900Z",
     "iopub.status.busy": "2022-08-16T19:32:12.268716Z",
     "iopub.status.idle": "2022-08-16T19:32:12.282700Z",
     "shell.execute_reply": "2022-08-16T19:32:12.281430Z"
    },
    "papermill": {
     "duration": 0.031063,
     "end_time": "2022-08-16T19:32:12.285551",
     "exception": false,
     "start_time": "2022-08-16T19:32:12.254488",
     "status": "completed"
    },
    "tags": []
   },
   "outputs": [],
   "source": [
    "X_train = X_train.apply(zscore_normalize_features)\n",
    "#X_test = X_test.apply(zscore_normalize_features)"
   ]
  },
  {
   "cell_type": "code",
   "execution_count": 31,
   "id": "c5cf9227",
   "metadata": {
    "execution": {
     "iopub.execute_input": "2022-08-16T19:32:12.313027Z",
     "iopub.status.busy": "2022-08-16T19:32:12.312606Z",
     "iopub.status.idle": "2022-08-16T19:32:13.454318Z",
     "shell.execute_reply": "2022-08-16T19:32:13.453036Z"
    },
    "papermill": {
     "duration": 1.158496,
     "end_time": "2022-08-16T19:32:13.457110",
     "exception": false,
     "start_time": "2022-08-16T19:32:12.298614",
     "status": "completed"
    },
    "tags": []
   },
   "outputs": [
    {
     "data": {
      "image/png": "[encoded data removed]",
      "text/plain": [
       "<Figure size 1800x216 with 2 Axes>"
      ]
     },
     "metadata": {
      "needs_background": "light"
     },
     "output_type": "display_data"
    },
    {
     "data": {
      "image/png": "[encoded data removed]",
      "text/plain": [
       "<Figure size 1800x216 with 3 Axes>"
      ]
     },
     "metadata": {
      "needs_background": "light"
     },
     "output_type": "display_data"
    },
    {
     "data": {
      "image/png": "[encoded data removed]",
      "text/plain": [
       "<Figure size 1800x216 with 2 Axes>"
      ]
     },
     "metadata": {
      "needs_background": "light"
     },
     "output_type": "display_data"
    }
   ],
   "source": [
    "fig,ax1=plt.subplots(1, 2, figsize=(25, 3), sharey=True)\n",
    "fig,ax2=plt.subplots(1, 3, figsize=(25, 3), sharey=True)\n",
    "fig,ax3=plt.subplots(1, 2, figsize=(25, 3), sharey=True)\n",
    "i=0\n",
    "for feature in ['Age' , 'Fare']:\n",
    "    ax1[i].scatter(X_train[feature],Y_train)\n",
    "    ax1[i].set_xlabel(feature)\n",
    "    i+=1\n",
    "i=0\n",
    "for feature in ['Sex' , 'SibSp' ,'Parch']:\n",
    "    ax2[i].scatter(X_train[feature],Y_train)\n",
    "    ax2[i].set_xlabel(feature)\n",
    "    i+=1\n",
    "i=0\n",
    "for feature in ['Pclass' , 'Embarked'] :\n",
    "    ax3[i].scatter(X_train[feature],Y_train)\n",
    "    ax3[i].set_xlabel(feature)\n",
    "    i+=1\n",
    "ax1[0].set_ylabel(\"Servive\")\n",
    "ax2[0].set_ylabel(\"Servive\")\n",
    "ax3[0].set_ylabel(\"Servive\")\n",
    "plt.show()"
   ]
  },
  {
   "cell_type": "code",
   "execution_count": 32,
   "id": "d938d9d2",
   "metadata": {
    "execution": {
     "iopub.execute_input": "2022-08-16T19:32:13.493221Z",
     "iopub.status.busy": "2022-08-16T19:32:13.491249Z",
     "iopub.status.idle": "2022-08-16T19:32:13.509181Z",
     "shell.execute_reply": "2022-08-16T19:32:13.507593Z"
    },
    "papermill": {
     "duration": 0.040745,
     "end_time": "2022-08-16T19:32:13.512263",
     "exception": false,
     "start_time": "2022-08-16T19:32:13.471518",
     "status": "completed"
    },
    "tags": []
   },
   "outputs": [],
   "source": [
    "lr_model2 = LogisticRegression()\n",
    "lr_model2.fit(X_train, Y_train)\n",
    "Y_pred = lr_model.predict(X_train)"
   ]
  },
  {
   "cell_type": "code",
   "execution_count": 33,
   "id": "bc49cec8",
   "metadata": {
    "execution": {
     "iopub.execute_input": "2022-08-16T19:32:13.542381Z",
     "iopub.status.busy": "2022-08-16T19:32:13.541985Z",
     "iopub.status.idle": "2022-08-16T19:32:14.645127Z",
     "shell.execute_reply": "2022-08-16T19:32:14.643930Z"
    },
    "papermill": {
     "duration": 1.120455,
     "end_time": "2022-08-16T19:32:14.647631",
     "exception": false,
     "start_time": "2022-08-16T19:32:13.527176",
     "status": "completed"
    },
    "tags": []
   },
   "outputs": [
    {
     "data": {
      "image/png": "[encoded data removed]",
      "text/plain": [
       "<Figure size 1800x216 with 2 Axes>"
      ]
     },
     "metadata": {
      "needs_background": "light"
     },
     "output_type": "display_data"
    },
    {
     "data": {
      "image/png": "[encoded data removed]",
      "text/plain": [
       "<Figure size 1800x216 with 3 Axes>"
      ]
     },
     "metadata": {
      "needs_background": "light"
     },
     "output_type": "display_data"
    },
    {
     "data": {
      "image/png": "[encoded data removed]",
      "text/plain": [
       "<Figure size 1800x216 with 2 Axes>"
      ]
     },
     "metadata": {
      "needs_background": "light"
     },
     "output_type": "display_data"
    }
   ],
   "source": [
    "fig,ax1=plt.subplots(1, 2, figsize=(25, 3), sharey=True)\n",
    "fig,ax2=plt.subplots(1, 3, figsize=(25, 3), sharey=True)\n",
    "fig,ax3=plt.subplots(1, 2, figsize=(25, 3), sharey=True)\n",
    "i=0\n",
    "for feature in ['Age' , 'Fare']:\n",
    "    ax1[i].scatter(X_train[feature],Y_train)\n",
    "    ax1[i].scatter(X_train[feature],Y_pred ,color='orange')\n",
    "    ax1[i].set_xlabel(feature)\n",
    "    i+=1\n",
    "i=0\n",
    "for feature in ['Sex' , 'SibSp' ,'Parch']:\n",
    "    ax2[i].scatter(X_train[feature],Y_train)\n",
    "    ax2[i].scatter(X_train[feature],Y_pred ,color='orange')\n",
    "    ax2[i].set_xlabel(feature)\n",
    "    i+=1\n",
    "i=0\n",
    "for feature in ['Pclass' , 'Embarked'] :\n",
    "    ax3[i].scatter(X_train[feature],Y_train)\n",
    "    ax3[i].scatter(X_train[feature],Y_pred ,color= 'orange')\n",
    "    ax3[i].set_xlabel(feature)\n",
    "    i+=1\n",
    "ax1[0].set_ylabel(\"Servive\")\n",
    "ax2[0].set_ylabel(\"Servive\")\n",
    "ax3[0].set_ylabel(\"Servive\")\n",
    "plt.show()"
   ]
  },
  {
   "cell_type": "code",
   "execution_count": null,
   "id": "602c0ba8",
   "metadata": {
    "papermill": {
     "duration": 0.013687,
     "end_time": "2022-08-16T19:32:14.676092",
     "exception": false,
     "start_time": "2022-08-16T19:32:14.662405",
     "status": "completed"
    },
    "tags": []
   },
   "outputs": [],
   "source": []
  }
 ],
 "metadata": {
  "kernelspec": {
   "display_name": "Python 3",
   "language": "python",
   "name": "python3"
  },
  "language_info": {
   "codemirror_mode": {
    "name": "ipython",
    "version": 3
   },
   "file_extension": ".py",
   "mimetype": "text/x-python",
   "name": "python",
   "nbconvert_exporter": "python",
   "pygments_lexer": "ipython3",
   "version": "3.7.12"
  },
  "papermill": {
   "default_parameters": {},
   "duration": 18.648273,
   "end_time": "2022-08-16T19:32:15.513866",
   "environment_variables": {},
   "exception": null,
   "input_path": "__notebook__.ipynb",
   "output_path": "__notebook__.ipynb",
   "parameters": {},
   "start_time": "2022-08-16T19:31:56.865593",
   "version": "2.3.4"
  }
 },
 "nbformat": 4,
 "nbformat_minor": 5
}
